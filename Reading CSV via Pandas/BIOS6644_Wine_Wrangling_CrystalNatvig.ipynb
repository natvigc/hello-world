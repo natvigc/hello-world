{
 "cells": [
  {
   "cell_type": "code",
   "execution_count": 1,
   "metadata": {},
   "outputs": [],
   "source": [
    "##########################################################################################\n",
    "#                                                                                        #\n",
    "#  888888b.  8888888 .d88888b.   .d8888b.     .d8888b.   .d8888b.      d8888      d8888  #\n",
    "#  888  \"88b   888  d88P\" \"Y88b d88P  Y88b   d88P  Y88b d88P  Y88b    d8P888     d8P888  #\n",
    "#  888  .88P   888  888     888 Y88b.        888        888          d8P 888    d8P 888  #\n",
    "#  8888888K.   888  888     888  \"Y888b.     888d888b.  888d888b.   d8P  888   d8P  888  #\n",
    "#  888  \"Y88b  888  888     888     \"Y88b.   888P \"Y88b 888P \"Y88b d88   888  d88   888  #\n",
    "#  888    888  888  888     888       \"888   888    888 888    888 8888888888 8888888888 #\n",
    "#  888   d88P  888  Y88b. .d88P Y88b  d88P   Y88b  d88P Y88b  d88P       888        888  #\n",
    "#  8888888P\" 8888888 \"Y88888P\"   \"Y8888P\"     \"Y8888P\"   \"Y8888P\"        888        888  #\n",
    "#                                                                                        # \n",
    "##########################################################################################\n",
    "#\n",
    "# Wine Wrangling \n",
    "#\n",
    "##########################################################################################\n"
   ]
  },
  {
   "cell_type": "code",
   "execution_count": 2,
   "metadata": {},
   "outputs": [],
   "source": [
    "##################################################################################################################\n",
    "#\n",
    "# YouDo:\n",
    "#    1) Make a copy of this notebook with your name as a suffix:  \n",
    "#       BIOS6644_Wine_Wrangling_FirstLast.ipynb\n",
    "#    2) Do all work in this new notebook.\n",
    "#    3) Submit completed work via GitHub pull request\n",
    "#\n",
    "##################################################################################################################\n"
   ]
  },
  {
   "cell_type": "code",
   "execution_count": 3,
   "metadata": {},
   "outputs": [],
   "source": [
    "# Standard imports\n",
    "import numpy as np\n",
    "import pandas as pd\n",
    "import pylab as plt\n",
    "%matplotlib notebook\n",
    "import numpy as np"
   ]
  },
  {
   "cell_type": "markdown",
   "metadata": {},
   "source": [
    "## Fetch the data\n",
    "\n",
    "https://archive.ics.uci.edu/ml/machine-learning-databases/wine/\n",
    "\n",
    "You'll need to fetch both wine.data and wine.names"
   ]
  },
  {
   "cell_type": "markdown",
   "metadata": {},
   "source": [
    "## Build a  list of field names\n"
   ]
  },
  {
   "cell_type": "code",
   "execution_count": 4,
   "metadata": {},
   "outputs": [],
   "source": [
    "\n",
    "##################################################################################################################\n",
    "#\n",
    "# YouDo:\n",
    "#    1) Read (with your eyes--not code) the wine.names file and \n",
    "#    2) inspect wine.data for structure \n",
    "#    3) Review the features of python strings with particular attention to triple-quoted strings:\n",
    "#         https://docs.python.org/3/tutorial/introduction.html#strings\n",
    "#\n",
    "##################################################################################################################\n",
    "#\n",
    "# Notice that in wine.names, there's a list of column names in nicely human-readable format.   \n",
    "# Also notice that wine.data doesn't have a header row\n",
    "#\n",
    "# In python, it's pretty easy to take that list of column names and make it usable in our code.\n",
    "# You could, of course, hand type it, but that's not a scalable solution.\n",
    "#\n",
    "#The list looks like this:\n",
    "#\n",
    "#\t1) Alcohol\n",
    "# \t2) Malic acid\n",
    "# \t3) Ash\n",
    "#\t4) Alcalinity of ash  \n",
    "# ...\n",
    "\n",
    "\n",
    "# Using a simple cut & paste, I've grabbed the list and made it into a triple-quoted string.\n"
   ]
  },
  {
   "cell_type": "code",
   "execution_count": 12,
   "metadata": {},
   "outputs": [
    {
     "ename": "SyntaxError",
     "evalue": "invalid syntax (<ipython-input-12-912d6158948b>, line 14)",
     "output_type": "error",
     "traceback": [
      "\u001b[1;36m  File \u001b[1;32m\"<ipython-input-12-912d6158948b>\"\u001b[1;36m, line \u001b[1;32m14\u001b[0m\n\u001b[1;33m    13)Proline \"\"\"\u001b[0m\n\u001b[1;37m                  \n^\u001b[0m\n\u001b[1;31mSyntaxError\u001b[0m\u001b[1;31m:\u001b[0m invalid syntax\n"
     ]
    }
   ],
   "source": [
    "colnames = \"\"\"\n",
    "\t1) Alcohol\n",
    " \t2) Malic acid\n",
    " \t3) Ash\n",
    "\t4) Alcalinity of ash  \n",
    " \t5) Magnesium\n",
    "\t6) Total phenols\n",
    " \t7) Flavanoids\n",
    " \t8) Nonflavanoid phenols\n",
    " \t9) Proanthocyanins\n",
    "\t10)Color intensity\n",
    " \t11)Hue\n",
    " \t12)OD280/OD315 of diluted wines\n",
    " \t13)Proline \"\"\"\n",
    "\n",
    "##################################################################################################################\n",
    "#\n",
    "# YouDo:\n",
    "#    1) Convert the given triple-quoted string colnames into a list of field names.   \n",
    "#        a) Ensure that the list has 13 elements\n",
    "#        b) Ensure each entry has no space characters--replace with underscores\n",
    "#        c) It should look like this:\n",
    "#            col_name_list = ['Alcohol', 'Malic_acid', 'Ash', 'Alcalinity_of_ash', ...\n",
    "#\n",
    "#  Hint:  My solution made great use of the string methods:\n",
    "#       .strip()\n",
    "# and   .replace()\n",
    "\n",
    "\n",
    "#  1)\n",
    "#######################################  BEGIN STUDENT CODE  #####################################################\n",
    "str.lstrip('123) ') \n",
    "\n",
    "result = sr.replace(colnames)\n",
    "\n",
    "# Print the result \n",
    "print(result) \n",
    "\n",
    "#######################################   END STUDENT CODE   #####################################################\n",
    "\n",
    "\n"
   ]
  },
  {
   "cell_type": "markdown",
   "metadata": {},
   "source": [
    "# Read wine.data into a data frame"
   ]
  },
  {
   "cell_type": "code",
   "execution_count": null,
   "metadata": {},
   "outputs": [],
   "source": [
    "#################################################################################################################\n",
    "#\n",
    "# YouDo:\n",
    "#    1) read the data into a dataframe called df\n",
    "#       a) Ensure that you don't read the first row of data as the header\n",
    "#           (check the help file: help(pd.read_csv) under \"header\")\n",
    "#       b) df should have the shape 178 rows by 14 columns\n",
    "#\n",
    "#\n",
    "#################################################################################################################\n",
    "\n",
    "# 1) \n",
    "#######################################  BEGIN STUDENT CODE  #####################################################\n",
    "\n",
    "\n",
    "#######################################   END STUDENT CODE   #####################################################\n",
    "\n"
   ]
  },
  {
   "cell_type": "markdown",
   "metadata": {},
   "source": [
    "## Add column names to the df"
   ]
  },
  {
   "cell_type": "code",
   "execution_count": null,
   "metadata": {},
   "outputs": [],
   "source": [
    "#################################################################################################################\n",
    "#\n",
    "# YouDo:\n",
    "#    1) Add column names to the df\n",
    "#       Note:  There are 13 column names in our list but 14 in the data\n",
    "#              A careful reading of wine.names will give you the final column name\n",
    "#  \n",
    "\n",
    "#######################################  BEGIN STUDENT CODE  #####################################################\n",
    "\n",
    "\n",
    "#######################################   END STUDENT CODE   #####################################################\n",
    "\n"
   ]
  },
  {
   "cell_type": "markdown",
   "metadata": {},
   "source": [
    "## An example analysis:  Principal Components Analysis"
   ]
  },
  {
   "cell_type": "code",
   "execution_count": null,
   "metadata": {},
   "outputs": [],
   "source": [
    "# adapted from https://towardsdatascience.com/pca-using-python-scikit-learn-e653f8989e60\n",
    "\n",
    "from sklearn.preprocessing import StandardScaler\n",
    "from sklearn.decomposition import PCA\n",
    "\n",
    "features = df.columns[1:] # Separating out the features\n",
    "x = df.loc[:, features].values# Separating out the target\n",
    "y = df.loc[:,'Class'].values# Standardizing the features\n",
    "x = StandardScaler().fit_transform(x)\n",
    "\n",
    "pca = PCA(n_components=2)\n",
    "principalComponents = pca.fit_transform(x)\n",
    "\n",
    "principalDf = pd.DataFrame(data = principalComponents, columns = ['PC1', 'PC2'])\n",
    "principalDf['Category'] = y"
   ]
  },
  {
   "cell_type": "code",
   "execution_count": null,
   "metadata": {},
   "outputs": [],
   "source": [
    "# Make a scatter plot of the principal components of wines--dots colored by \"Class\" \n",
    "fig, ax = plt.subplots()\n",
    "\n",
    "thisclass = principalDf\n",
    "ax.scatter(thisclass.PC1, thisclass.PC2, c=thisclass.Category)\n",
    "\n",
    "plt.title('First two Principle Components of Wine Data')\n",
    "plt.xlabel('First Principle Component')\n",
    "plt.ylabel('Second Principle Component')\n"
   ]
  },
  {
   "cell_type": "code",
   "execution_count": null,
   "metadata": {},
   "outputs": [],
   "source": [
    "# Explained variance\n",
    "print('Explained Variance: {}'.format(pca.explained_variance_ratio_))\n"
   ]
  },
  {
   "cell_type": "code",
   "execution_count": null,
   "metadata": {},
   "outputs": [],
   "source": [
    "# PCA Loading scores\n",
    "pd.DataFrame(pca.components_.T, index=fixed_colnames, columns=['PC1', 'PC2'] )"
   ]
  },
  {
   "cell_type": "code",
   "execution_count": null,
   "metadata": {},
   "outputs": [],
   "source": [
    "\n",
    "##################################################################################################################\n",
    "#\n",
    "# YouDo:\n",
    "#    1) Ensure your file is called BIOS6644_Wine_Wrangling_FirstLast\n",
    "#    2) Submit via pull-request\n",
    "#\n",
    "##################################################################################################################\n"
   ]
  },
  {
   "cell_type": "code",
   "execution_count": null,
   "metadata": {},
   "outputs": [],
   "source": []
  }
 ],
 "metadata": {
  "kernelspec": {
   "display_name": "Python 3",
   "language": "python",
   "name": "python3"
  },
  "language_info": {
   "codemirror_mode": {
    "name": "ipython",
    "version": 3
   },
   "file_extension": ".py",
   "mimetype": "text/x-python",
   "name": "python",
   "nbconvert_exporter": "python",
   "pygments_lexer": "ipython3",
   "version": "3.7.3"
  }
 },
 "nbformat": 4,
 "nbformat_minor": 4
}
